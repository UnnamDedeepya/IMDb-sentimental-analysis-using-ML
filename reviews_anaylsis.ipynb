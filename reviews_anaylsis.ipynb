{
  "nbformat": 4,
  "nbformat_minor": 0,
  "metadata": {
    "colab": {
      "name": "reviews anaylsis.ipynb",
      "provenance": [],
      "collapsed_sections": [
        "DwXgefSTdSGH",
        "rvv82GMggbnf",
        "YkxPNmYy2Zvu",
        "h01IRmuQ4WSV"
      ],
      "authorship_tag": "ABX9TyMypD9+7PiP+samyd3t6hiE",
      "include_colab_link": true
    },
    "kernelspec": {
      "display_name": "Python 3",
      "name": "python3"
    },
    "language_info": {
      "name": "python"
    }
  },
  "cells": [
    {
      "cell_type": "markdown",
      "metadata": {
        "id": "view-in-github",
        "colab_type": "text"
      },
      "source": [
        "<a href=\"https://colab.research.google.com/github/AMROAMRO404/ML-Sentiment-Analysis-IMDB/blob/main/reviews_anaylsis.ipynb\" target=\"_parent\"><img src=\"https://colab.research.google.com/assets/colab-badge.svg\" alt=\"Open In Colab\"/></a>"
      ]
    },
    {
      "cell_type": "markdown",
      "metadata": {
        "id": "HiwqASwKY85J"
      },
      "source": [
        "# **Data Description**"
      ]
    },
    {
      "cell_type": "code",
      "metadata": {
        "colab": {
          "base_uri": "https://localhost:8080/"
        },
        "id": "DmAR3TA2ZNRb",
        "outputId": "bded826d-909b-45dc-b285-8a5c4ba4c73b"
      },
      "source": [
        "import pandas as pd\n",
        "from google.colab import drive\n",
        "drive.mount(\"/content/gdrive\")\n",
        "\n",
        "\n",
        "# Load dataset\n",
        "df = pd.read_csv(\"/content/gdrive/MyDrive/IMDB_Dataset.csv\",engine='python',error_bad_lines=False)\n",
        "\n",
        "# Display dimensions of dataframe\n",
        "print(df.shape)\n",
        "print(df.info())\n",
        "\n",
        "print(\"_______________________________________________________________________\")\n",
        "# Display first 10 records\n",
        "print(df.head(10))\n",
        "\n",
        "print(\"_______________________________________________________________________\")\n",
        "# Display last 10 records\n",
        "print(df.tail(10))\n",
        "\n",
        "print(\"_______________________________________________________________________\")\n",
        "# List types of all columns\n",
        "print(df.dtypes)\n",
        "\n",
        "print(\"_______________________________________________________________________\")\n",
        "# List the column names\n",
        "print(df.columns)\n"
      ],
      "execution_count": null,
      "outputs": [
        {
          "output_type": "stream",
          "text": [
            "Drive already mounted at /content/gdrive; to attempt to forcibly remount, call drive.mount(\"/content/gdrive\", force_remount=True).\n",
            "(50000, 2)\n",
            "<class 'pandas.core.frame.DataFrame'>\n",
            "RangeIndex: 50000 entries, 0 to 49999\n",
            "Data columns (total 2 columns):\n",
            " #   Column     Non-Null Count  Dtype \n",
            "---  ------     --------------  ----- \n",
            " 0   review     50000 non-null  object\n",
            " 1   sentiment  50000 non-null  object\n",
            "dtypes: object(2)\n",
            "memory usage: 781.4+ KB\n",
            "None\n",
            "_______________________________________________________________________\n",
            "                                              review sentiment\n",
            "0  One of the other reviewers has mentioned that ...  positive\n",
            "1  A wonderful little production. <br /><br />The...  positive\n",
            "2  I thought this was a wonderful way to spend ti...  positive\n",
            "3  Basically there's a family where a little boy ...  negative\n",
            "4  Petter Mattei's \"Love in the Time of Money\" is...  positive\n",
            "5  Probably my all-time favorite movie, a story o...  positive\n",
            "6  I sure would like to see a resurrection of a u...  positive\n",
            "7  This show was an amazing, fresh & innovative i...  negative\n",
            "8  Encouraged by the positive comments about this...  negative\n",
            "9  If you like original gut wrenching laughter yo...  positive\n",
            "_______________________________________________________________________\n",
            "                                                  review sentiment\n",
            "49990  Lame, lame, lame!!! A 90-minute cringe-fest th...  negative\n",
            "49991  Les Visiteurs, the first movie about the medie...  negative\n",
            "49992  John Garfield plays a Marine who is blinded by...  positive\n",
            "49993  Robert Colomb has two full-time jobs. He's kno...  negative\n",
            "49994  This is your typical junk comedy.<br /><br />T...  negative\n",
            "49995  I thought this movie did a down right good job...  positive\n",
            "49996  Bad plot, bad dialogue, bad acting, idiotic di...  negative\n",
            "49997  I am a Catholic taught in parochial elementary...  negative\n",
            "49998  I'm going to have to disagree with the previou...  negative\n",
            "49999  No one expects the Star Trek movies to be high...  negative\n",
            "_______________________________________________________________________\n",
            "review       object\n",
            "sentiment    object\n",
            "dtype: object\n",
            "_______________________________________________________________________\n",
            "Index(['review', 'sentiment'], dtype='object')\n"
          ],
          "name": "stdout"
        }
      ]
    },
    {
      "cell_type": "code",
      "metadata": {
        "colab": {
          "base_uri": "https://localhost:8080/",
          "height": 349
        },
        "id": "SgIkd6Ew0JHC",
        "outputId": "aa80af4c-cddf-476d-f0ea-68cbdcfe2749"
      },
      "source": [
        "import seaborn as sns \n",
        "# Is there any missing values ?\n",
        "print(\"SUM : \\n\",df.isnull().sum())\n",
        "sns.heatmap(df.isnull(), cbar=False, yticklabels=False, cmap=\"viridis\")"
      ],
      "execution_count": null,
      "outputs": [
        {
          "output_type": "stream",
          "text": [
            "SUM : \n",
            " review       0\n",
            "sentiment    0\n",
            "dtype: int64\n"
          ],
          "name": "stdout"
        },
        {
          "output_type": "execute_result",
          "data": {
            "text/plain": [
              "<matplotlib.axes._subplots.AxesSubplot at 0x7fc38eaf7250>"
            ]
          },
          "metadata": {
            "tags": []
          },
          "execution_count": 63
        },
        {
          "output_type": "display_data",
          "data": {
            "image/png": "[encoded data removed]",
            "text/plain": [
              "<Figure size 432x288 with 1 Axes>"
            ]
          },
          "metadata": {
            "tags": [],
            "needs_background": "light"
          }
        }
      ]
    },
    {
      "cell_type": "code",
      "metadata": {
        "colab": {
          "base_uri": "https://localhost:8080/"
        },
        "id": "QdyXZ0qc0e4x",
        "outputId": "c356253e-484b-4ed6-8185-8c8b83317b85"
      },
      "source": [
        "# Dropping the duplicate rows\n",
        "duplicate_rows = df[df.duplicated()]\n",
        "print(\"number of duplicate rows : \",duplicate_rows.shape)\n",
        "\n",
        "df.drop_duplicates(inplace=True)\n",
        "print(\"number of duplicate rows : \",df[df.duplicated()].shape)"
      ],
      "execution_count": null,
      "outputs": [
        {
          "output_type": "stream",
          "text": [
            "number of duplicate rows :  (418, 2)\n",
            "number of duplicate rows :  (0, 2)\n"
          ],
          "name": "stdout"
        }
      ]
    },
    {
      "cell_type": "code",
      "metadata": {
        "colab": {
          "base_uri": "https://localhost:8080/",
          "height": 350
        },
        "id": "5ciJ_lJ20oSY",
        "outputId": "0349978c-34da-4a48-9955-b8aad662a1da"
      },
      "source": [
        "# data visualization\n",
        "sns.countplot(df['sentiment'])"
      ],
      "execution_count": null,
      "outputs": [
        {
          "output_type": "stream",
          "text": [
            "/usr/local/lib/python3.7/dist-packages/seaborn/_decorators.py:43: FutureWarning: Pass the following variable as a keyword arg: x. From version 0.12, the only valid positional argument will be `data`, and passing other arguments without an explicit keyword will result in an error or misinterpretation.\n",
            "  FutureWarning\n"
          ],
          "name": "stderr"
        },
        {
          "output_type": "execute_result",
          "data": {
            "text/plain": [
              "<matplotlib.axes._subplots.AxesSubplot at 0x7fc38eaec990>"
            ]
          },
          "metadata": {
            "tags": []
          },
          "execution_count": 65
        },
        {
          "output_type": "display_data",
          "data": {
            "image/png": "[encoded data removed]",
            "text/plain": [
              "<Figure size 432x288 with 1 Axes>"
            ]
          },
          "metadata": {
            "tags": [],
            "needs_background": "light"
          }
        }
      ]
    },
    {
      "cell_type": "code",
      "metadata": {
        "colab": {
          "base_uri": "https://localhost:8080/"
        },
        "id": "gbIQZz6Aayyg",
        "outputId": "364b8c94-f482-4e46-9494-d140e3483b2b"
      },
      "source": [
        "# Mapping of label values\n",
        "df_copy = df.copy()\n",
        "print(df.head(10))\n",
        "\n",
        "print(\"_______________________________________________________________________\")\n",
        "df_copy[\"sentiment\"] = df_copy[\"sentiment\"].map({\"negative\":0,\"positive\":1})\n",
        "print(\"Sentiment :\\n\",df_copy.head(20))"
      ],
      "execution_count": null,
      "outputs": [
        {
          "output_type": "stream",
          "text": [
            "                                              review sentiment\n",
            "0  One of the other reviewers has mentioned that ...  positive\n",
            "1  A wonderful little production. <br /><br />The...  positive\n",
            "2  I thought this was a wonderful way to spend ti...  positive\n",
            "3  Basically there's a family where a little boy ...  negative\n",
            "4  Petter Mattei's \"Love in the Time of Money\" is...  positive\n",
            "5  Probably my all-time favorite movie, a story o...  positive\n",
            "6  I sure would like to see a resurrection of a u...  positive\n",
            "7  This show was an amazing, fresh & innovative i...  negative\n",
            "8  Encouraged by the positive comments about this...  negative\n",
            "9  If you like original gut wrenching laughter yo...  positive\n",
            "_______________________________________________________________________\n",
            "Sentiment :\n",
            "                                                review  sentiment\n",
            "0   One of the other reviewers has mentioned that ...          1\n",
            "1   A wonderful little production. <br /><br />The...          1\n",
            "2   I thought this was a wonderful way to spend ti...          1\n",
            "3   Basically there's a family where a little boy ...          0\n",
            "4   Petter Mattei's \"Love in the Time of Money\" is...          1\n",
            "5   Probably my all-time favorite movie, a story o...          1\n",
            "6   I sure would like to see a resurrection of a u...          1\n",
            "7   This show was an amazing, fresh & innovative i...          0\n",
            "8   Encouraged by the positive comments about this...          0\n",
            "9   If you like original gut wrenching laughter yo...          1\n",
            "10  Phil the Alien is one of those quirky films wh...          0\n",
            "11  I saw this movie when I was about 12 when it c...          0\n",
            "12  So im not a big fan of Boll's work but then ag...          0\n",
            "13  The cast played Shakespeare.<br /><br />Shakes...          0\n",
            "14  This a fantastic movie of three prisoners who ...          1\n",
            "15  Kind of drawn in by the erotic scenes, only to...          0\n",
            "16  Some films just simply should not be remade. T...          1\n",
            "17  This movie made it into one of my top 10 most ...          0\n",
            "18  I remember this film,it was the first film i h...          1\n",
            "19  An awful film! It must have been up against so...          0\n"
          ],
          "name": "stdout"
        }
      ]
    },
    {
      "cell_type": "markdown",
      "metadata": {
        "id": "DwXgefSTdSGH"
      },
      "source": [
        "## **Text preprocessing**"
      ]
    },
    {
      "cell_type": "markdown",
      "metadata": {
        "id": "rvv82GMggbnf"
      },
      "source": [
        "### **Remove panctuation**"
      ]
    },
    {
      "cell_type": "code",
      "metadata": {
        "colab": {
          "base_uri": "https://localhost:8080/",
          "height": 35
        },
        "id": "6VswguL1guF3",
        "outputId": "b653bd7f-4029-4c40-e860-49f580055c69"
      },
      "source": [
        "import string\n",
        "string.punctuation"
      ],
      "execution_count": null,
      "outputs": [
        {
          "output_type": "execute_result",
          "data": {
            "application/vnd.google.colaboratory.intrinsic+json": {
              "type": "string"
            },
            "text/plain": [
              "'!\"#$%&\\'()*+,-./:;<=>?@[\\\\]^_`{|}~'"
            ]
          },
          "metadata": {
            "tags": []
          },
          "execution_count": 67
        }
      ]
    },
    {
      "cell_type": "code",
      "metadata": {
        "colab": {
          "base_uri": "https://localhost:8080/"
        },
        "id": "7Ne8UaFjhE3J",
        "outputId": "846a381c-0029-40a8-f917-800e03f2f96b"
      },
      "source": [
        "print(\"data before ... \")\n",
        "print(df_copy.head(10))\n",
        "print(\"_______________________________________________________________________\")\n",
        "\n",
        "def remove_punctuation(text):\n",
        "    text_nopunc = \"\".join([char for char in text if char not in string.punctuation]) # delete all punctuation\n",
        "    return text_nopunc\n",
        "df_copy['review_pun'] = df_copy['review'].apply(lambda x: remove_punctuation(x))\n",
        "# Display first 10 records after remove punctuation \n",
        "\n",
        "print(\"data after ... \")\n",
        "print(df_copy.head(10))\n",
        "print(\"_______________________________________________________________________\")"
      ],
      "execution_count": null,
      "outputs": [
        {
          "output_type": "stream",
          "text": [
            "data before ... \n",
            "                                              review  sentiment\n",
            "0  One of the other reviewers has mentioned that ...          1\n",
            "1  A wonderful little production. <br /><br />The...          1\n",
            "2  I thought this was a wonderful way to spend ti...          1\n",
            "3  Basically there's a family where a little boy ...          0\n",
            "4  Petter Mattei's \"Love in the Time of Money\" is...          1\n",
            "5  Probably my all-time favorite movie, a story o...          1\n",
            "6  I sure would like to see a resurrection of a u...          1\n",
            "7  This show was an amazing, fresh & innovative i...          0\n",
            "8  Encouraged by the positive comments about this...          0\n",
            "9  If you like original gut wrenching laughter yo...          1\n",
            "_______________________________________________________________________\n",
            "data after ... \n",
            "                                              review  ...                                         review_pun\n",
            "0  One of the other reviewers has mentioned that ...  ...  One of the other reviewers has mentioned that ...\n",
            "1  A wonderful little production. <br /><br />The...  ...  A wonderful little production br br The filmin...\n",
            "2  I thought this was a wonderful way to spend ti...  ...  I thought this was a wonderful way to spend ti...\n",
            "3  Basically there's a family where a little boy ...  ...  Basically theres a family where a little boy J...\n",
            "4  Petter Mattei's \"Love in the Time of Money\" is...  ...  Petter Matteis Love in the Time of Money is a ...\n",
            "5  Probably my all-time favorite movie, a story o...  ...  Probably my alltime favorite movie a story of ...\n",
            "6  I sure would like to see a resurrection of a u...  ...  I sure would like to see a resurrection of a u...\n",
            "7  This show was an amazing, fresh & innovative i...  ...  This show was an amazing fresh  innovative ide...\n",
            "8  Encouraged by the positive comments about this...  ...  Encouraged by the positive comments about this...\n",
            "9  If you like original gut wrenching laughter yo...  ...  If you like original gut wrenching laughter yo...\n",
            "\n",
            "[10 rows x 3 columns]\n",
            "_______________________________________________________________________\n"
          ],
          "name": "stdout"
        }
      ]
    },
    {
      "cell_type": "markdown",
      "metadata": {
        "id": "YkxPNmYy2Zvu"
      },
      "source": [
        "### **Tokenization**"
      ]
    },
    {
      "cell_type": "code",
      "metadata": {
        "colab": {
          "base_uri": "https://localhost:8080/",
          "height": 195
        },
        "id": "K6urj5Oa2gah",
        "outputId": "d017ecd7-0b70-4705-d570-661e5726041a"
      },
      "source": [
        "import re\n",
        "\n",
        "# Function to Tokenize words\n",
        "def tokenize(text):\n",
        "    tokens = re.split('\\W+', text) #W+ means that either a word character (A-Za-z0-9_) or a dash (-) can go there.\n",
        "    return tokens\n",
        "\n",
        "df_copy['review_tokenized'] = df_copy['review_pun'].apply(lambda x: tokenize(x.lower())) \n",
        "#We convert to lower as Python is case-sensitive. \n",
        "\n",
        "df_copy.head()"
      ],
      "execution_count": null,
      "outputs": [
        {
          "output_type": "execute_result",
          "data": {
            "text/html": [
              "<div>\n",
              "<style scoped>\n",
              "    .dataframe tbody tr th:only-of-type {\n",
              "        vertical-align: middle;\n",
              "    }\n",
              "\n",
              "    .dataframe tbody tr th {\n",
              "        vertical-align: top;\n",
              "    }\n",
              "\n",
              "    .dataframe thead th {\n",
              "        text-align: right;\n",
              "    }\n",
              "</style>\n",
              "<table border=\"1\" class=\"dataframe\">\n",
              "  <thead>\n",
              "    <tr style=\"text-align: right;\">\n",
              "      <th></th>\n",
              "      <th>review</th>\n",
              "      <th>sentiment</th>\n",
              "      <th>review_pun</th>\n",
              "      <th>review_tokenized</th>\n",
              "    </tr>\n",
              "  </thead>\n",
              "  <tbody>\n",
              "    <tr>\n",
              "      <th>0</th>\n",
              "      <td>One of the other reviewers has mentioned that ...</td>\n",
              "      <td>1</td>\n",
              "      <td>One of the other reviewers has mentioned that ...</td>\n",
              "      <td>[one, of, the, other, reviewers, has, mentione...</td>\n",
              "    </tr>\n",
              "    <tr>\n",
              "      <th>1</th>\n",
              "      <td>A wonderful little production. &lt;br /&gt;&lt;br /&gt;The...</td>\n",
              "      <td>1</td>\n",
              "      <td>A wonderful little production br br The filmin...</td>\n",
              "      <td>[a, wonderful, little, production, br, br, the...</td>\n",
              "    </tr>\n",
              "    <tr>\n",
              "      <th>2</th>\n",
              "      <td>I thought this was a wonderful way to spend ti...</td>\n",
              "      <td>1</td>\n",
              "      <td>I thought this was a wonderful way to spend ti...</td>\n",
              "      <td>[i, thought, this, was, a, wonderful, way, to,...</td>\n",
              "    </tr>\n",
              "    <tr>\n",
              "      <th>3</th>\n",
              "      <td>Basically there's a family where a little boy ...</td>\n",
              "      <td>0</td>\n",
              "      <td>Basically theres a family where a little boy J...</td>\n",
              "      <td>[basically, theres, a, family, where, a, littl...</td>\n",
              "    </tr>\n",
              "    <tr>\n",
              "      <th>4</th>\n",
              "      <td>Petter Mattei's \"Love in the Time of Money\" is...</td>\n",
              "      <td>1</td>\n",
              "      <td>Petter Matteis Love in the Time of Money is a ...</td>\n",
              "      <td>[petter, matteis, love, in, the, time, of, mon...</td>\n",
              "    </tr>\n",
              "  </tbody>\n",
              "</table>\n",
              "</div>"
            ],
            "text/plain": [
              "                                              review  ...                                   review_tokenized\n",
              "0  One of the other reviewers has mentioned that ...  ...  [one, of, the, other, reviewers, has, mentione...\n",
              "1  A wonderful little production. <br /><br />The...  ...  [a, wonderful, little, production, br, br, the...\n",
              "2  I thought this was a wonderful way to spend ti...  ...  [i, thought, this, was, a, wonderful, way, to,...\n",
              "3  Basically there's a family where a little boy ...  ...  [basically, theres, a, family, where, a, littl...\n",
              "4  Petter Mattei's \"Love in the Time of Money\" is...  ...  [petter, matteis, love, in, the, time, of, mon...\n",
              "\n",
              "[5 rows x 4 columns]"
            ]
          },
          "metadata": {
            "tags": []
          },
          "execution_count": 72
        }
      ]
    },
    {
      "cell_type": "markdown",
      "metadata": {
        "id": "h01IRmuQ4WSV"
      },
      "source": [
        "### **Remove stopwords**"
      ]
    },
    {
      "cell_type": "code",
      "metadata": {
        "colab": {
          "base_uri": "https://localhost:8080/"
        },
        "id": "unCtNCJ94c6Z",
        "outputId": "339eaa86-13c8-4410-b71a-c585f41f1dc1"
      },
      "source": [
        "import nltk\n",
        "nltk.download('stopwords')\n",
        "from nltk.corpus import stopwords\n",
        "stop_words = stopwords.words('english')\n",
        "print(stop_words)"
      ],
      "execution_count": null,
      "outputs": [
        {
          "output_type": "stream",
          "text": [
            "[nltk_data] Downloading package stopwords to /root/nltk_data...\n",
            "[nltk_data]   Package stopwords is already up-to-date!\n",
            "['i', 'me', 'my', 'myself', 'we', 'our', 'ours', 'ourselves', 'you', \"you're\", \"you've\", \"you'll\", \"you'd\", 'your', 'yours', 'yourself', 'yourselves', 'he', 'him', 'his', 'himself', 'she', \"she's\", 'her', 'hers', 'herself', 'it', \"it's\", 'its', 'itself', 'they', 'them', 'their', 'theirs', 'themselves', 'what', 'which', 'who', 'whom', 'this', 'that', \"that'll\", 'these', 'those', 'am', 'is', 'are', 'was', 'were', 'be', 'been', 'being', 'have', 'has', 'had', 'having', 'do', 'does', 'did', 'doing', 'a', 'an', 'the', 'and', 'but', 'if', 'or', 'because', 'as', 'until', 'while', 'of', 'at', 'by', 'for', 'with', 'about', 'against', 'between', 'into', 'through', 'during', 'before', 'after', 'above', 'below', 'to', 'from', 'up', 'down', 'in', 'out', 'on', 'off', 'over', 'under', 'again', 'further', 'then', 'once', 'here', 'there', 'when', 'where', 'why', 'how', 'all', 'any', 'both', 'each', 'few', 'more', 'most', 'other', 'some', 'such', 'no', 'nor', 'not', 'only', 'own', 'same', 'so', 'than', 'too', 'very', 's', 't', 'can', 'will', 'just', 'don', \"don't\", 'should', \"should've\", 'now', 'd', 'll', 'm', 'o', 're', 've', 'y', 'ain', 'aren', \"aren't\", 'couldn', \"couldn't\", 'didn', \"didn't\", 'doesn', \"doesn't\", 'hadn', \"hadn't\", 'hasn', \"hasn't\", 'haven', \"haven't\", 'isn', \"isn't\", 'ma', 'mightn', \"mightn't\", 'mustn', \"mustn't\", 'needn', \"needn't\", 'shan', \"shan't\", 'shouldn', \"shouldn't\", 'wasn', \"wasn't\", 'weren', \"weren't\", 'won', \"won't\", 'wouldn', \"wouldn't\"]\n"
          ],
          "name": "stdout"
        }
      ]
    },
    {
      "cell_type": "code",
      "metadata": {
        "colab": {
          "base_uri": "https://localhost:8080/"
        },
        "id": "FN52K_vj4gtF",
        "outputId": "feaf6716-17c0-4ab9-d7c2-179c03d30a50"
      },
      "source": [
        "print(\"data before ... \")\n",
        "print(df_copy.head(10))\n",
        "print(\"_______________________________________________________________________\")\n",
        "\n",
        "def remove_stopwords(text):\n",
        "    text = [word for word in text if word not in stop_words]\n",
        "    return text\n",
        "\n",
        "df_copy['review_stopword'] = df_copy['review_tokenized'].apply(lambda x: remove_stopwords(x))\n",
        "\n",
        "print(\"data after ... \")\n",
        "print(df_copy.head(10))\n",
        "print(\"_______________________________________________________________________\")"
      ],
      "execution_count": null,
      "outputs": [
        {
          "output_type": "stream",
          "text": [
            "data before ... \n",
            "                                              review  ...                                   review_tokenized\n",
            "0  One of the other reviewers has mentioned that ...  ...  [one, of, the, other, reviewers, has, mentione...\n",
            "1  A wonderful little production. <br /><br />The...  ...  [a, wonderful, little, production, br, br, the...\n",
            "2  I thought this was a wonderful way to spend ti...  ...  [i, thought, this, was, a, wonderful, way, to,...\n",
            "3  Basically there's a family where a little boy ...  ...  [basically, theres, a, family, where, a, littl...\n",
            "4  Petter Mattei's \"Love in the Time of Money\" is...  ...  [petter, matteis, love, in, the, time, of, mon...\n",
            "5  Probably my all-time favorite movie, a story o...  ...  [probably, my, alltime, favorite, movie, a, st...\n",
            "6  I sure would like to see a resurrection of a u...  ...  [i, sure, would, like, to, see, a, resurrectio...\n",
            "7  This show was an amazing, fresh & innovative i...  ...  [this, show, was, an, amazing, fresh, innovati...\n",
            "8  Encouraged by the positive comments about this...  ...  [encouraged, by, the, positive, comments, abou...\n",
            "9  If you like original gut wrenching laughter yo...  ...  [if, you, like, original, gut, wrenching, laug...\n",
            "\n",
            "[10 rows x 4 columns]\n",
            "_______________________________________________________________________\n",
            "data after ... \n",
            "                                              review  ...                                    review_stopword\n",
            "0  One of the other reviewers has mentioned that ...  ...  [one, reviewers, mentioned, watching, 1, oz, e...\n",
            "1  A wonderful little production. <br /><br />The...  ...  [wonderful, little, production, br, br, filmin...\n",
            "2  I thought this was a wonderful way to spend ti...  ...  [thought, wonderful, way, spend, time, hot, su...\n",
            "3  Basically there's a family where a little boy ...  ...  [basically, theres, family, little, boy, jake,...\n",
            "4  Petter Mattei's \"Love in the Time of Money\" is...  ...  [petter, matteis, love, time, money, visually,...\n",
            "5  Probably my all-time favorite movie, a story o...  ...  [probably, alltime, favorite, movie, story, se...\n",
            "6  I sure would like to see a resurrection of a u...  ...  [sure, would, like, see, resurrection, dated, ...\n",
            "7  This show was an amazing, fresh & innovative i...  ...  [show, amazing, fresh, innovative, idea, 70s, ...\n",
            "8  Encouraged by the positive comments about this...  ...  [encouraged, positive, comments, film, looking...\n",
            "9  If you like original gut wrenching laughter yo...  ...  [like, original, gut, wrenching, laughter, lik...\n",
            "\n",
            "[10 rows x 5 columns]\n",
            "_______________________________________________________________________\n"
          ],
          "name": "stdout"
        }
      ]
    },
    {
      "cell_type": "markdown",
      "metadata": {
        "id": "JKfQVsyG5_aB"
      },
      "source": [
        "### **Lemetizing**"
      ]
    },
    {
      "cell_type": "code",
      "metadata": {
        "colab": {
          "base_uri": "https://localhost:8080/"
        },
        "id": "zJ1M_k6b6CFV",
        "outputId": "09f95ff3-09b1-444f-c17b-9f66162aec43"
      },
      "source": [
        "nltk.download('wordnet')\n",
        "print(\"data before ... \")\n",
        "print(df_copy.head(10))\n",
        "print(\"_______________________________________________________________________\")\n",
        "wn = nltk.WordNetLemmatizer()\n",
        "\n",
        "def lemetizing(text):\n",
        "    text = [wn.lemmatize(word) for word in text]\n",
        "    return text\n",
        "df_copy['review_lem'] = df_copy['review_stopword'].apply(lambda x: lemetizing(x))\n",
        "\n",
        "print(\"data after ... \")\n",
        "print(df_copy.head(10))\n",
        "print(\"_______________________________________________________________________\")"
      ],
      "execution_count": null,
      "outputs": [
        {
          "output_type": "stream",
          "text": [
            "[nltk_data] Downloading package wordnet to /root/nltk_data...\n",
            "[nltk_data]   Package wordnet is already up-to-date!\n",
            "data before ... \n",
            "                                              review  ...                                    review_stopword\n",
            "0  One of the other reviewers has mentioned that ...  ...  [one, reviewers, mentioned, watching, 1, oz, e...\n",
            "1  A wonderful little production. <br /><br />The...  ...  [wonderful, little, production, br, br, filmin...\n",
            "2  I thought this was a wonderful way to spend ti...  ...  [thought, wonderful, way, spend, time, hot, su...\n",
            "3  Basically there's a family where a little boy ...  ...  [basically, theres, family, little, boy, jake,...\n",
            "4  Petter Mattei's \"Love in the Time of Money\" is...  ...  [petter, matteis, love, time, money, visually,...\n",
            "5  Probably my all-time favorite movie, a story o...  ...  [probably, alltime, favorite, movie, story, se...\n",
            "6  I sure would like to see a resurrection of a u...  ...  [sure, would, like, see, resurrection, dated, ...\n",
            "7  This show was an amazing, fresh & innovative i...  ...  [show, amazing, fresh, innovative, idea, 70s, ...\n",
            "8  Encouraged by the positive comments about this...  ...  [encouraged, positive, comments, film, looking...\n",
            "9  If you like original gut wrenching laughter yo...  ...  [like, original, gut, wrenching, laughter, lik...\n",
            "\n",
            "[10 rows x 5 columns]\n",
            "_______________________________________________________________________\n",
            "data after ... \n",
            "                                              review  ...                                         review_lem\n",
            "0  One of the other reviewers has mentioned that ...  ...  [one, reviewer, mentioned, watching, 1, oz, ep...\n",
            "1  A wonderful little production. <br /><br />The...  ...  [wonderful, little, production, br, br, filmin...\n",
            "2  I thought this was a wonderful way to spend ti...  ...  [thought, wonderful, way, spend, time, hot, su...\n",
            "3  Basically there's a family where a little boy ...  ...  [basically, there, family, little, boy, jake, ...\n",
            "4  Petter Mattei's \"Love in the Time of Money\" is...  ...  [petter, matteis, love, time, money, visually,...\n",
            "5  Probably my all-time favorite movie, a story o...  ...  [probably, alltime, favorite, movie, story, se...\n",
            "6  I sure would like to see a resurrection of a u...  ...  [sure, would, like, see, resurrection, dated, ...\n",
            "7  This show was an amazing, fresh & innovative i...  ...  [show, amazing, fresh, innovative, idea, 70, f...\n",
            "8  Encouraged by the positive comments about this...  ...  [encouraged, positive, comment, film, looking,...\n",
            "9  If you like original gut wrenching laughter yo...  ...  [like, original, gut, wrenching, laughter, lik...\n",
            "\n",
            "[10 rows x 6 columns]\n",
            "_______________________________________________________________________\n"
          ],
          "name": "stdout"
        }
      ]
    },
    {
      "cell_type": "code",
      "metadata": {
        "colab": {
          "base_uri": "https://localhost:8080/"
        },
        "id": "1XRjN5E-2yYr",
        "outputId": "82cfdc68-f698-446d-f99e-4aed0517068f"
      },
      "source": [
        "# Reconstruct the text\n",
        "print(\"data before ... \")\n",
        "print(df_copy.head(10))\n",
        "print(\"_______________________________________________________________________\")\n",
        "\n",
        "def construct(text):\n",
        "  text_clean = \"\"\n",
        "  for word in text:\n",
        "    text_clean += word +\" \"\n",
        "  return text_clean\n",
        "    \n",
        "df_copy['review_cleaned'] = df_copy['review_lem'].apply(lambda x: construct(x))\n",
        "\n",
        "print(\"data after ... \")\n",
        "print(df_copy.head(10))\n",
        "print(\"_______________________________________________________________________\")"
      ],
      "execution_count": null,
      "outputs": [
        {
          "output_type": "stream",
          "text": [
            "data before ... \n",
            "                                              review  ...                                         review_lem\n",
            "0  One of the other reviewers has mentioned that ...  ...  [one, reviewer, mentioned, watching, 1, oz, ep...\n",
            "1  A wonderful little production. <br /><br />The...  ...  [wonderful, little, production, br, br, filmin...\n",
            "2  I thought this was a wonderful way to spend ti...  ...  [thought, wonderful, way, spend, time, hot, su...\n",
            "3  Basically there's a family where a little boy ...  ...  [basically, there, family, little, boy, jake, ...\n",
            "4  Petter Mattei's \"Love in the Time of Money\" is...  ...  [petter, matteis, love, time, money, visually,...\n",
            "5  Probably my all-time favorite movie, a story o...  ...  [probably, alltime, favorite, movie, story, se...\n",
            "6  I sure would like to see a resurrection of a u...  ...  [sure, would, like, see, resurrection, dated, ...\n",
            "7  This show was an amazing, fresh & innovative i...  ...  [show, amazing, fresh, innovative, idea, 70, f...\n",
            "8  Encouraged by the positive comments about this...  ...  [encouraged, positive, comment, film, looking,...\n",
            "9  If you like original gut wrenching laughter yo...  ...  [like, original, gut, wrenching, laughter, lik...\n",
            "\n",
            "[10 rows x 6 columns]\n",
            "_______________________________________________________________________\n",
            "data after ... \n",
            "                                              review  ...                                     review_cleaned\n",
            "0  One of the other reviewers has mentioned that ...  ...  one reviewer mentioned watching 1 oz episode y...\n",
            "1  A wonderful little production. <br /><br />The...  ...  wonderful little production br br filming tech...\n",
            "2  I thought this was a wonderful way to spend ti...  ...  thought wonderful way spend time hot summer we...\n",
            "3  Basically there's a family where a little boy ...  ...  basically there family little boy jake think t...\n",
            "4  Petter Mattei's \"Love in the Time of Money\" is...  ...  petter matteis love time money visually stunni...\n",
            "5  Probably my all-time favorite movie, a story o...  ...  probably alltime favorite movie story selfless...\n",
            "6  I sure would like to see a resurrection of a u...  ...  sure would like see resurrection dated seahunt...\n",
            "7  This show was an amazing, fresh & innovative i...  ...  show amazing fresh innovative idea 70 first ai...\n",
            "8  Encouraged by the positive comments about this...  ...  encouraged positive comment film looking forwa...\n",
            "9  If you like original gut wrenching laughter yo...  ...  like original gut wrenching laughter like movi...\n",
            "\n",
            "[10 rows x 7 columns]\n",
            "_______________________________________________________________________\n"
          ],
          "name": "stdout"
        }
      ]
    },
    {
      "cell_type": "markdown",
      "metadata": {
        "id": "CT_PDvmz5Y9I"
      },
      "source": [
        "# **Models Implementation**"
      ]
    },
    {
      "cell_type": "code",
      "metadata": {
        "id": "fvILJ2Em5mcJ"
      },
      "source": [
        "# import libraries\n",
        "from sklearn.feature_extraction.text import TfidfVectorizer\n",
        "from sklearn.metrics import accuracy_score\n",
        "from sklearn.model_selection import train_test_split\n",
        "from sklearn.naive_bayes import MultinomialNB\n",
        "from sklearn import metrics"
      ],
      "execution_count": null,
      "outputs": []
    },
    {
      "cell_type": "code",
      "metadata": {
        "colab": {
          "base_uri": "https://localhost:8080/"
        },
        "id": "riLxEH-v5fXS",
        "outputId": "ea479ba9-d44f-46a5-c765-5643a509fec1"
      },
      "source": [
        "y = df_copy[\"sentiment\"].values\n",
        "# split the dataset into training data and test data\n",
        "X_train, X_test, y_train, y_test = train_test_split(df_copy, y, \n",
        "                        test_size= 0.20, random_state=100, stratify=y)\n",
        "\n",
        "vec = TfidfVectorizer()\n",
        "train_vectors = vec.fit_transform(X_train['review'])\n",
        "test_vectors = vec.transform(X_test['review'])\n",
        "\n",
        "print(\"train data : \", train_vectors.shape)\n",
        "print(\"test data : \", test_vectors.shape)"
      ],
      "execution_count": null,
      "outputs": [
        {
          "output_type": "stream",
          "text": [
            "train data :  (39665, 93100)\n",
            "test data :  (9917, 93100)\n"
          ],
          "name": "stdout"
        }
      ]
    },
    {
      "cell_type": "code",
      "metadata": {
        "colab": {
          "base_uri": "https://localhost:8080/",
          "height": 543
        },
        "id": "izbvu1-Y5_Ms",
        "outputId": "102b2a00-67de-4fc8-8f5e-a88e8db0f729"
      },
      "source": [
        "# Classify using Naive Bayes 0.86\n",
        "\n",
        "MNB_clf = MultinomialNB()\n",
        "\n",
        "# fit model no training data\n",
        "MNB_clf.fit(train_vectors, Y_train)\n",
        "\n",
        "# making predictions on the testing set \n",
        "predicted = MNB_clf.predict(test_vectors)\n",
        "\n",
        "# Classification report\n",
        "print(\"Classification report : \\n\", MNB_clf,\"\\n\", \n",
        "      metrics.classification_report(Y_test, predicted))\n",
        "disp = metrics.plot_confusion_matrix(MNB_clf, test_vectors, Y_test)\n",
        "disp.figure_.suptitle(\"Confusion Matrix\")\n",
        "print(\"Confusion matrix: \\n\", disp.confusion_matrix)"
      ],
      "execution_count": null,
      "outputs": [
        {
          "output_type": "stream",
          "text": [
            "Classification report : \n",
            " MultinomialNB(alpha=1.0, class_prior=None, fit_prior=True) \n",
            "               precision    recall  f1-score   support\n",
            "\n",
            "           0       0.85      0.88      0.87      4940\n",
            "           1       0.88      0.84      0.86      4977\n",
            "\n",
            "    accuracy                           0.86      9917\n",
            "   macro avg       0.86      0.86      0.86      9917\n",
            "weighted avg       0.87      0.86      0.86      9917\n",
            "\n",
            "Confusion matrix: \n",
            " [[4370  570]\n",
            " [ 775 4202]]\n"
          ],
          "name": "stdout"
        },
        {
          "output_type": "display_data",
          "data": {
            "image/png": "[encoded data removed]",
            "text/plain": [
              "<Figure size 432x288 with 2 Axes>"
            ]
          },
          "metadata": {
            "tags": [],
            "needs_background": "light"
          }
        }
      ]
    },
    {
      "cell_type": "code",
      "metadata": {
        "colab": {
          "base_uri": "https://localhost:8080/",
          "height": 610
        },
        "id": "l36v_75Z6dmh",
        "outputId": "bae208f8-3288-43da-e641-4f0cd0c2817b"
      },
      "source": [
        "from sklearn.linear_model import LogisticRegression\n",
        "\n",
        "# Create the classifier\n",
        "# multi_class: default = \"auto\"\n",
        "logreg = LogisticRegression(random_state=42)\n",
        "\n",
        "# Train the classifier\n",
        "logreg.fit(train_vectors, y_train)\n",
        "\n",
        "# Predict the value of X_test\n",
        "predicted = logreg.predict(test_vectors)\n",
        "\n",
        "# Classification report\n",
        "print(\"Classifier : \", logreg)\n",
        "print(\"Classification report for classifier : \\n\", metrics.classification_report(y_test, predicted))\n",
        "\n",
        "disp = metrics.plot_confusion_matrix(logreg, test_vectors, y_test)\n",
        "disp.figure_.suptitle(\"Confusion Matrix\")\n",
        "print(\"Confusion matrix: \\n\", disp.confusion_matrix)"
      ],
      "execution_count": null,
      "outputs": [
        {
          "output_type": "stream",
          "text": [
            "Classifier :  LogisticRegression(C=1.0, class_weight=None, dual=False, fit_intercept=True,\n",
            "                   intercept_scaling=1, l1_ratio=None, max_iter=100,\n",
            "                   multi_class='auto', n_jobs=None, penalty='l2',\n",
            "                   random_state=42, solver='lbfgs', tol=0.0001, verbose=0,\n",
            "                   warm_start=False)\n",
            "Classification report for classifier : \n",
            "               precision    recall  f1-score   support\n",
            "\n",
            "           0       0.91      0.89      0.90      4940\n",
            "           1       0.89      0.91      0.90      4977\n",
            "\n",
            "    accuracy                           0.90      9917\n",
            "   macro avg       0.90      0.90      0.90      9917\n",
            "weighted avg       0.90      0.90      0.90      9917\n",
            "\n",
            "Confusion matrix: \n",
            " [[4392  548]\n",
            " [ 437 4540]]\n"
          ],
          "name": "stdout"
        },
        {
          "output_type": "display_data",
          "data": {
            "image/png": "[encoded data removed]",
            "text/plain": [
              "<Figure size 432x288 with 2 Axes>"
            ]
          },
          "metadata": {
            "tags": [],
            "needs_background": "light"
          }
        }
      ]
    },
    {
      "cell_type": "markdown",
      "metadata": {
        "id": "aL-5u_S263Zs"
      },
      "source": [
        "# **Validation**"
      ]
    },
    {
      "cell_type": "code",
      "metadata": {
        "id": "A8kql0n667Ob"
      },
      "source": [
        "# Cross-validation\n",
        "from sklearn.feature_extraction.text import TfidfVectorizer\n",
        "from sklearn.metrics import accuracy_score\n",
        "from sklearn.svm import SVC\n",
        "from sklearn.model_selection import cross_val_score"
      ],
      "execution_count": null,
      "outputs": []
    },
    {
      "cell_type": "code",
      "metadata": {
        "colab": {
          "base_uri": "https://localhost:8080/"
        },
        "id": "kykWR1qI8OTP",
        "outputId": "990663e3-a5cd-48e6-fa4a-c7902e345259"
      },
      "source": [
        "print(\"\\n Stratified K-fold Cross-Validation : *********\")\n",
        "from sklearn.model_selection import StratifiedKFold\n",
        "skfold = StratifiedKFold(n_splits=10, random_state=100)\n",
        "model = logreg\n",
        "results_model = cross_val_score(model, train_vectors, y_train, cv=skfold)\n",
        "print(\"Scores    :\", results_model)\n",
        "print(\"Accuracy  :\", results_model.mean())"
      ],
      "execution_count": null,
      "outputs": [
        {
          "output_type": "stream",
          "text": [
            "\n",
            " Stratified K-fold Cross-Validation : *********\n"
          ],
          "name": "stdout"
        },
        {
          "output_type": "stream",
          "text": [
            "/usr/local/lib/python3.7/dist-packages/sklearn/model_selection/_split.py:296: FutureWarning: Setting a random_state has no effect since shuffle is False. This will raise an error in 0.24. You should leave random_state to its default (None), or set shuffle=True.\n",
            "  FutureWarning\n",
            "/usr/local/lib/python3.7/dist-packages/sklearn/linear_model/_logistic.py:940: ConvergenceWarning: lbfgs failed to converge (status=1):\n",
            "STOP: TOTAL NO. of ITERATIONS REACHED LIMIT.\n",
            "\n",
            "Increase the number of iterations (max_iter) or scale the data as shown in:\n",
            "    https://scikit-learn.org/stable/modules/preprocessing.html\n",
            "Please also refer to the documentation for alternative solver options:\n",
            "    https://scikit-learn.org/stable/modules/linear_model.html#logistic-regression\n",
            "  extra_warning_msg=_LOGISTIC_SOLVER_CONVERGENCE_MSG)\n",
            "/usr/local/lib/python3.7/dist-packages/sklearn/linear_model/_logistic.py:940: ConvergenceWarning: lbfgs failed to converge (status=1):\n",
            "STOP: TOTAL NO. of ITERATIONS REACHED LIMIT.\n",
            "\n",
            "Increase the number of iterations (max_iter) or scale the data as shown in:\n",
            "    https://scikit-learn.org/stable/modules/preprocessing.html\n",
            "Please also refer to the documentation for alternative solver options:\n",
            "    https://scikit-learn.org/stable/modules/linear_model.html#logistic-regression\n",
            "  extra_warning_msg=_LOGISTIC_SOLVER_CONVERGENCE_MSG)\n",
            "/usr/local/lib/python3.7/dist-packages/sklearn/linear_model/_logistic.py:940: ConvergenceWarning: lbfgs failed to converge (status=1):\n",
            "STOP: TOTAL NO. of ITERATIONS REACHED LIMIT.\n",
            "\n",
            "Increase the number of iterations (max_iter) or scale the data as shown in:\n",
            "    https://scikit-learn.org/stable/modules/preprocessing.html\n",
            "Please also refer to the documentation for alternative solver options:\n",
            "    https://scikit-learn.org/stable/modules/linear_model.html#logistic-regression\n",
            "  extra_warning_msg=_LOGISTIC_SOLVER_CONVERGENCE_MSG)\n"
          ],
          "name": "stderr"
        },
        {
          "output_type": "stream",
          "text": [
            "Scores    : [0.89337031 0.8946307  0.89942022 0.89689942 0.89110159 0.89384771\n",
            " 0.89233485 0.89460414 0.89687342 0.89006556]\n",
            "Accuracy  : 0.8943147901605288\n"
          ],
          "name": "stdout"
        }
      ]
    },
    {
      "cell_type": "code",
      "metadata": {
        "colab": {
          "base_uri": "https://localhost:8080/",
          "height": 279
        },
        "id": "3OxQ6I9W_jt9",
        "outputId": "a68e6a8e-af37-4441-c950-14d87f5eeb26"
      },
      "source": [
        "# AUC-ROC curve (an evaluation metric for binary classification problems)\n",
        "\"\"\"\n",
        "AUC : The Area Under the Curve \n",
        "ROC : Receiver Characteristic Operator\n",
        "\n",
        "AUC measures the entire two-dimensional area underneath the entire ROC curve \n",
        "(think integral calculus) from (0,0) to (1,1).\n",
        "\n",
        "When AUC = 1, then the classifier is able to perfectly distinguish between all \n",
        "the Positive and the Negative class points correctly. If, however, the AUC had been 0, \n",
        "then the classifier would be predicting all Negatives as Positives, and all Positives as Negatives\n",
        "\"\"\"\n",
        "from sklearn import metrics\n",
        "disp = metrics.plot_roc_curve(logisticRegr, test_vectors, y_test)"
      ],
      "execution_count": null,
      "outputs": [
        {
          "output_type": "display_data",
          "data": {
            "image/png": "[encoded data removed]",
            "text/plain": [
              "<Figure size 432x288 with 1 Axes>"
            ]
          },
          "metadata": {
            "tags": [],
            "needs_background": "light"
          }
        }
      ]
    },
    {
      "cell_type": "code",
      "metadata": {
        "colab": {
          "base_uri": "https://localhost:8080/",
          "height": 312
        },
        "id": "uxu4Kfs3_osd",
        "outputId": "dfd53ea3-de84-4714-c1dd-d3f845f506a8"
      },
      "source": [
        "\"\"\"\n",
        "A system with high recall but low precision returns many results, \n",
        "but most of its predicted labels are incorrect when compared to the training labels.\n",
        "\n",
        "A system with high precision but low recall is just the opposite, \n",
        "returning very few results, but most of its predicted labels are correct when \n",
        "compared to the training labels. \n",
        "\n",
        "An ideal system with high precision and high recall will return many results, \n",
        "with all results labeled correctly.\n",
        "\n",
        "AP : average precision AP = SUMn((Rn - Rn-1) * Pn) \n",
        "\"\"\"\n",
        "from sklearn.metrics import plot_precision_recall_curve\n",
        "\n",
        "disp = plot_precision_recall_curve(logisticRegr, test_vectors, y_test)\n",
        "disp.ax_.set_title(\"2-class Precision-Recall curve: \")"
      ],
      "execution_count": null,
      "outputs": [
        {
          "output_type": "execute_result",
          "data": {
            "text/plain": [
              "Text(0.5, 1.0, '2-class Precision-Recall curve: ')"
            ]
          },
          "metadata": {
            "tags": []
          },
          "execution_count": 102
        },
        {
          "output_type": "display_data",
          "data": {
            "image/png": "[encoded data removed]",
            "text/plain": [
              "<Figure size 432x288 with 1 Axes>"
            ]
          },
          "metadata": {
            "tags": [],
            "needs_background": "light"
          }
        }
      ]
    },
    {
      "cell_type": "markdown",
      "metadata": {
        "id": "DM_CNEU3_tNS"
      },
      "source": [
        "# **Deployment**"
      ]
    },
    {
      "cell_type": "code",
      "metadata": {
        "colab": {
          "base_uri": "https://localhost:8080/"
        },
        "id": "4lFmiDV0_xYS",
        "outputId": "40e9ede6-757a-4202-8280-6aa29166a775"
      },
      "source": [
        "pip install gradio"
      ],
      "execution_count": null,
      "outputs": [
        {
          "output_type": "stream",
          "text": [
            "Collecting gradio\n",
            "\u001b[?25l  Downloading https://files.pythonhosted.org/packages/59/97/b7210489b201409175e63afa3307f8e067fe1289cc19a68003dfeef03f06/gradio-2.1.0-py3-none-any.whl (2.5MB)\n",
            "\u001b[K     |████████████████████████████████| 2.5MB 9.6MB/s \n",
            "\u001b[?25hRequirement already satisfied: pandas in /usr/local/lib/python3.7/dist-packages (from gradio) (1.1.5)\n",
            "Collecting flask-cachebuster\n",
            "  Downloading https://files.pythonhosted.org/packages/74/47/f3e1fedfaad965c81c2f17234636d72f71450f1b4522ca26d2b7eb4a0a74/Flask-CacheBuster-1.0.0.tar.gz\n",
            "Requirement already satisfied: numpy in /usr/local/lib/python3.7/dist-packages (from gradio) (1.19.5)\n",
            "Collecting ffmpy\n",
            "  Downloading https://files.pythonhosted.org/packages/bf/e2/947df4b3d666bfdd2b0c6355d215c45d2d40f929451cb29a8a2995b29788/ffmpy-0.3.0.tar.gz\n",
            "Collecting markdown2\n",
            "  Downloading https://files.pythonhosted.org/packages/5d/be/3924cc1c0e12030b5225de2b4521f1dc729730773861475de26be64a0d2b/markdown2-2.4.0-py2.py3-none-any.whl\n",
            "Requirement already satisfied: requests in /usr/local/lib/python3.7/dist-packages (from gradio) (2.23.0)\n",
            "Requirement already satisfied: pillow in /usr/local/lib/python3.7/dist-packages (from gradio) (7.1.2)\n",
            "Requirement already satisfied: matplotlib in /usr/local/lib/python3.7/dist-packages (from gradio) (3.2.2)\n",
            "Collecting analytics-python\n",
            "  Downloading https://files.pythonhosted.org/packages/30/81/2f447982f8d5dec5b56c10ca9ac53e5de2b2e9e2bdf7e091a05731f21379/analytics_python-1.3.1-py2.py3-none-any.whl\n",
            "Collecting pycryptodome\n",
            "\u001b[?25l  Downloading https://files.pythonhosted.org/packages/ad/16/9627ab0493894a11c68e46000dbcc82f578c8ff06bc2980dcd016aea9bd3/pycryptodome-3.10.1-cp35-abi3-manylinux2010_x86_64.whl (1.9MB)\n",
            "\u001b[K     |████████████████████████████████| 1.9MB 51.4MB/s \n",
            "\u001b[?25hCollecting Flask-Login\n",
            "  Downloading https://files.pythonhosted.org/packages/2b/83/ac5bf3279f969704fc1e63f050c50e10985e50fd340e6069ec7e09df5442/Flask_Login-0.5.0-py2.py3-none-any.whl\n",
            "Collecting Flask-Cors>=3.0.8\n",
            "  Downloading https://files.pythonhosted.org/packages/db/84/901e700de86604b1c4ef4b57110d4e947c218b9997adf5d38fa7da493bce/Flask_Cors-3.0.10-py2.py3-none-any.whl\n",
            "Collecting paramiko\n",
            "\u001b[?25l  Downloading https://files.pythonhosted.org/packages/95/19/124e9287b43e6ff3ebb9cdea3e5e8e88475a873c05ccdf8b7e20d2c4201e/paramiko-2.7.2-py2.py3-none-any.whl (206kB)\n",
            "\u001b[K     |████████████████████████████████| 215kB 68.5MB/s \n",
            "\u001b[?25hRequirement already satisfied: scipy in /usr/local/lib/python3.7/dist-packages (from gradio) (1.4.1)\n",
            "Requirement already satisfied: Flask>=1.1.1 in /usr/local/lib/python3.7/dist-packages (from gradio) (1.1.4)\n",
            "Requirement already satisfied: python-dateutil>=2.7.3 in /usr/local/lib/python3.7/dist-packages (from pandas->gradio) (2.8.1)\n",
            "Requirement already satisfied: pytz>=2017.2 in /usr/local/lib/python3.7/dist-packages (from pandas->gradio) (2018.9)\n",
            "Requirement already satisfied: chardet<4,>=3.0.2 in /usr/local/lib/python3.7/dist-packages (from requests->gradio) (3.0.4)\n",
            "Requirement already satisfied: urllib3!=1.25.0,!=1.25.1,<1.26,>=1.21.1 in /usr/local/lib/python3.7/dist-packages (from requests->gradio) (1.24.3)\n",
            "Requirement already satisfied: certifi>=2017.4.17 in /usr/local/lib/python3.7/dist-packages (from requests->gradio) (2021.5.30)\n",
            "Requirement already satisfied: idna<3,>=2.5 in /usr/local/lib/python3.7/dist-packages (from requests->gradio) (2.10)\n",
            "Requirement already satisfied: cycler>=0.10 in /usr/local/lib/python3.7/dist-packages (from matplotlib->gradio) (0.10.0)\n",
            "Requirement already satisfied: kiwisolver>=1.0.1 in /usr/local/lib/python3.7/dist-packages (from matplotlib->gradio) (1.3.1)\n",
            "Requirement already satisfied: pyparsing!=2.0.4,!=2.1.2,!=2.1.6,>=2.0.1 in /usr/local/lib/python3.7/dist-packages (from matplotlib->gradio) (2.4.7)\n",
            "Collecting monotonic>=1.5\n",
            "  Downloading https://files.pythonhosted.org/packages/9a/67/7e8406a29b6c45be7af7740456f7f37025f0506ae2e05fb9009a53946860/monotonic-1.6-py2.py3-none-any.whl\n",
            "Requirement already satisfied: six>=1.5 in /usr/local/lib/python3.7/dist-packages (from analytics-python->gradio) (1.15.0)\n",
            "Collecting backoff==1.10.0\n",
            "  Downloading https://files.pythonhosted.org/packages/f0/32/c5dd4f4b0746e9ec05ace2a5045c1fc375ae67ee94355344ad6c7005fd87/backoff-1.10.0-py2.py3-none-any.whl\n",
            "Collecting cryptography>=2.5\n",
            "\u001b[?25l  Downloading https://files.pythonhosted.org/packages/b2/26/7af637e6a7e87258b963f1731c5982fb31cd507f0d90d91836e446955d02/cryptography-3.4.7-cp36-abi3-manylinux2014_x86_64.whl (3.2MB)\n",
            "\u001b[K     |████████████████████████████████| 3.2MB 43.8MB/s \n",
            "\u001b[?25hCollecting pynacl>=1.0.1\n",
            "\u001b[?25l  Downloading https://files.pythonhosted.org/packages/9d/57/2f5e6226a674b2bcb6db531e8b383079b678df5b10cdaa610d6cf20d77ba/PyNaCl-1.4.0-cp35-abi3-manylinux1_x86_64.whl (961kB)\n",
            "\u001b[K     |████████████████████████████████| 962kB 55.7MB/s \n",
            "\u001b[?25hCollecting bcrypt>=3.1.3\n",
            "\u001b[?25l  Downloading https://files.pythonhosted.org/packages/26/70/6d218afbe4c73538053c1016dd631e8f25fffc10cd01f5c272d7acf3c03d/bcrypt-3.2.0-cp36-abi3-manylinux2010_x86_64.whl (63kB)\n",
            "\u001b[K     |████████████████████████████████| 71kB 6.9MB/s \n",
            "\u001b[?25hRequirement already satisfied: Jinja2<3.0,>=2.10.1 in /usr/local/lib/python3.7/dist-packages (from Flask>=1.1.1->gradio) (2.11.3)\n",
            "Requirement already satisfied: click<8.0,>=5.1 in /usr/local/lib/python3.7/dist-packages (from Flask>=1.1.1->gradio) (7.1.2)\n",
            "Requirement already satisfied: itsdangerous<2.0,>=0.24 in /usr/local/lib/python3.7/dist-packages (from Flask>=1.1.1->gradio) (1.1.0)\n",
            "Requirement already satisfied: Werkzeug<2.0,>=0.15 in /usr/local/lib/python3.7/dist-packages (from Flask>=1.1.1->gradio) (1.0.1)\n",
            "Requirement already satisfied: cffi>=1.12 in /usr/local/lib/python3.7/dist-packages (from cryptography>=2.5->paramiko->gradio) (1.14.5)\n",
            "Requirement already satisfied: MarkupSafe>=0.23 in /usr/local/lib/python3.7/dist-packages (from Jinja2<3.0,>=2.10.1->Flask>=1.1.1->gradio) (2.0.1)\n",
            "Requirement already satisfied: pycparser in /usr/local/lib/python3.7/dist-packages (from cffi>=1.12->cryptography>=2.5->paramiko->gradio) (2.20)\n",
            "Building wheels for collected packages: flask-cachebuster, ffmpy\n",
            "  Building wheel for flask-cachebuster (setup.py) ... \u001b[?25l\u001b[?25hdone\n",
            "  Created wheel for flask-cachebuster: filename=Flask_CacheBuster-1.0.0-cp37-none-any.whl size=3372 sha256=87ff15670fcdd761e16894a48bf28149d38367e25304b5fe47f48d716b6a55e7\n",
            "  Stored in directory: /root/.cache/pip/wheels/9f/fc/a7/ab5712c3ace9a8f97276465cc2937316ab8063c1fea488ea77\n",
            "  Building wheel for ffmpy (setup.py) ... \u001b[?25l\u001b[?25hdone\n",
            "  Created wheel for ffmpy: filename=ffmpy-0.3.0-cp37-none-any.whl size=4710 sha256=33793520a792e38ac7f7039654f956f0659add2cbfd0c163105148fe05e94d90\n",
            "  Stored in directory: /root/.cache/pip/wheels/cc/ac/c4/bef572cb7e52bfca170046f567e64858632daf77e0f34e5a74\n",
            "Successfully built flask-cachebuster ffmpy\n",
            "Installing collected packages: flask-cachebuster, ffmpy, markdown2, monotonic, backoff, analytics-python, pycryptodome, Flask-Login, Flask-Cors, cryptography, pynacl, bcrypt, paramiko, gradio\n",
            "Successfully installed Flask-Cors-3.0.10 Flask-Login-0.5.0 analytics-python-1.3.1 backoff-1.10.0 bcrypt-3.2.0 cryptography-3.4.7 ffmpy-0.3.0 flask-cachebuster-1.0.0 gradio-2.1.0 markdown2-2.4.0 monotonic-1.6 paramiko-2.7.2 pycryptodome-3.10.1 pynacl-1.4.0\n"
          ],
          "name": "stdout"
        }
      ]
    },
    {
      "cell_type": "code",
      "metadata": {
        "id": "AY-5Dh7N_54q"
      },
      "source": [
        "# https://www.gradio.app/ml_examples\n",
        "# https://www.kaggle.com/scolianni/mnistasjpg\n",
        "\n",
        "import tensorflow as tf\n",
        "from tensorflow import keras\n",
        "import numpy as np\n",
        "import gradio as gr\n",
        "import requests"
      ],
      "execution_count": null,
      "outputs": []
    },
    {
      "cell_type": "code",
      "metadata": {
        "colab": {
          "base_uri": "https://localhost:8080/",
          "height": 638
        },
        "id": "vyIarSEl_7DU",
        "outputId": "020ad76d-8068-44ad-f95f-178a8f581349"
      },
      "source": [
        "def inference(review):\n",
        "    labels = ['negative' , 'positive']\n",
        "    texts = vec.transform([review])\n",
        "    pred = logisticRegr.predict_proba(texts)\n",
        "    dictionary = dict(zip(labels, map(float, pred[0])))\n",
        "    return dictionary\n",
        "\n",
        "\n",
        "gr.Interface(fn=inference, \n",
        "             inputs=\"textbox\", \n",
        "             outputs=gr.outputs.Label(num_top_classes=2)).launch(share=True) #, debug=True Use in Colab"
      ],
      "execution_count": null,
      "outputs": [
        {
          "output_type": "stream",
          "text": [
            "Colab notebook detected. To show errors in colab notebook, set `debug=True` in `launch()`\n",
            "This share link will expire in 24 hours. If you need a permanent link, visit: https://gradio.app/introducing-hosted (NEW!)\n",
            "Running on External URL: https://20836.gradio.app\n",
            "Interface loading below...\n"
          ],
          "name": "stdout"
        },
        {
          "output_type": "display_data",
          "data": {
            "text/html": [
              "\n",
              "        <iframe\n",
              "            width=\"900\"\n",
              "            height=\"500\"\n",
              "            src=\"https://20836.gradio.app\"\n",
              "            frameborder=\"0\"\n",
              "            allowfullscreen\n",
              "        ></iframe>\n",
              "        "
            ],
            "text/plain": [
              "<IPython.lib.display.IFrame at 0x7fc3abb5fe10>"
            ]
          },
          "metadata": {
            "tags": []
          }
        },
        {
          "output_type": "execute_result",
          "data": {
            "text/plain": [
              "(<Flask 'gradio.networking'>,\n",
              " 'http://127.0.0.1:7860/',\n",
              " 'https://20836.gradio.app')"
            ]
          },
          "metadata": {
            "tags": []
          },
          "execution_count": 105
        }
      ]
    }
  ]
}